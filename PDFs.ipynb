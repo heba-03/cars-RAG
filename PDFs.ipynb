{
 "cells": [
  {
   "cell_type": "code",
   "execution_count": 4,
   "metadata": {},
   "outputs": [],
   "source": [
    "import os\n",
    "from dotenv import load_dotenv\n",
    "\n",
    "load_dotenv()\n",
    "\n",
    "PINECONE_API_KEY = os.getenv(\"PINECONE_API_KEY\")\n",
    "#MODEL = \"mixtral:8x7b\"\n",
    "MODEL = \"llama3.2\"\n"
   ]
  },
  {
   "cell_type": "code",
   "execution_count": 5,
   "metadata": {},
   "outputs": [
    {
     "data": {
      "text/plain": [
       "\"Why couldn't the bicycle stand up by itself?\\n\\nBecause it was two-tired.\""
      ]
     },
     "execution_count": 5,
     "metadata": {},
     "output_type": "execute_result"
    }
   ],
   "source": [
    "from langchain_community.llms import Ollama\n",
    "from langchain_community.embeddings import OllamaEmbeddings\n",
    "\n",
    "\n",
    "\n",
    "model = Ollama(model=MODEL)\n",
    "#model = Ollama(model=MODEL, memory_optimized=True)\n",
    "\n",
    "embeddings = OllamaEmbeddings(model=MODEL)\n",
    "\n",
    "model.invoke(\"Tell me a joke\")"
   ]
  },
  {
   "cell_type": "code",
   "execution_count": 6,
   "metadata": {},
   "outputs": [
    {
     "data": {
      "text/plain": [
       "\"Here's one:\\n\\nWhat do you call a fake noodle?\\n\\nAn impasta!\""
      ]
     },
     "execution_count": 6,
     "metadata": {},
     "output_type": "execute_result"
    }
   ],
   "source": [
    "from langchain_core.output_parsers import StrOutputParser\n",
    "\n",
    "parser = StrOutputParser()\n",
    "\n",
    "chain = model | parser \n",
    "chain.invoke(\"Tell me a joke\")"
   ]
  },
  {
   "cell_type": "code",
   "execution_count": 7,
   "metadata": {},
   "outputs": [
    {
     "data": {
      "text/plain": [
       "'\\nYou are an expert in cars. Use the following context to answer the question.\\n\\nContext: Here is some context\\nQuestion: Here is a question\\n\\nAnswer:\\n'"
      ]
     },
     "execution_count": 7,
     "metadata": {},
     "output_type": "execute_result"
    }
   ],
   "source": [
    "from langchain.prompts import PromptTemplate\n",
    "\n",
    "template = \"\"\"\n",
    "You are an expert in cars. Use the following context to answer the question.\n",
    "\n",
    "Context: {context}\n",
    "Question: {question}\n",
    "\n",
    "Answer:\n",
    "\"\"\"\n",
    "\n",
    "prompt = PromptTemplate.from_template(template)\n",
    "prompt.format(context=\"Here is some context\", question=\"Here is a question\")"
   ]
  },
  {
   "cell_type": "code",
   "execution_count": 8,
   "metadata": {},
   "outputs": [
    {
     "data": {
      "text/plain": [
       "'My friend, my car is a sleek black sports car - a real head-turner! But I have to say, that new red car you mentioned? It looks fantastic! Is it a brand new purchase or an old reliable companion?'"
      ]
     },
     "execution_count": 8,
     "metadata": {},
     "output_type": "execute_result"
    }
   ],
   "source": [
    "chain = prompt | model | parser\n",
    "\n",
    "chain.invoke({\"context\": \"My car is red\", \"question\": \"What's your car'?\"})"
   ]
  },
  {
   "cell_type": "code",
   "execution_count": 9,
   "metadata": {},
   "outputs": [],
   "source": [
    "from langchain_community.document_loaders import PyPDFLoader\n",
    "\n",
    "pdf_files = [\"book1.pdf\", \"book2.pdf\", \"book3.pdf\", \"book4.pdf\", \"book5.pdf\"]  \n",
    "\n",
    "pages = []\n",
    "\n",
    "for pdf_file in pdf_files:\n",
    "    loader = PyPDFLoader(pdf_file)  \n",
    "    page = loader.load_and_split()  \n",
    "    pages.extend(pages) \n"
   ]
  },
  {
   "cell_type": "code",
   "execution_count": 10,
   "metadata": {},
   "outputs": [
    {
     "name": "stderr",
     "output_type": "stream",
     "text": [
      "C:\\Users\\LENOVO\\Desktop\\heba\\RAG\\diff concept\\virt\\Lib\\site-packages\\pydantic\\_migration.py:283: UserWarning: `pydantic.error_wrappers:ValidationError` has been moved to `pydantic:ValidationError`.\n",
      "  warnings.warn(f'`{import_path}` has been moved to `{new_location}`.')\n"
     ]
    }
   ],
   "source": [
    "from langchain_community.vectorstores import DocArrayInMemorySearch\n",
    "\n",
    "vectorstore = DocArrayInMemorySearch.from_documents(pages, embedding=embeddings)"
   ]
  },
  {
   "cell_type": "code",
   "execution_count": 11,
   "metadata": {},
   "outputs": [
    {
     "data": {
      "text/plain": [
       "[]"
      ]
     },
     "execution_count": 11,
     "metadata": {},
     "output_type": "execute_result"
    }
   ],
   "source": [
    "retriever = vectorstore.as_retriever()\n",
    "retriever.invoke(\"machine learning\")"
   ]
  },
  {
   "cell_type": "code",
   "execution_count": 12,
   "metadata": {},
   "outputs": [],
   "source": [
    "from operator import itemgetter\n",
    "\n",
    "chain = (\n",
    "    {\n",
    "        \"context\": itemgetter(\"question\") | retriever,\n",
    "        \"question\": itemgetter(\"question\"),\n",
    "    }\n",
    "    | prompt\n",
    "    | model\n",
    "    | parser\n",
    ")"
   ]
  },
  {
   "cell_type": "code",
   "execution_count": 13,
   "metadata": {},
   "outputs": [
    {
     "name": "stdout",
     "output_type": "stream",
     "text": [
      "Question: What is the fastest car?\n",
      "Answer: A question that gets to the heart of many car enthusiasts!\n",
      "\n",
      "The fastest production car in the world is the Bugatti Chiron Super Sport 300+.\n",
      "\n",
      "With a top speed of 330 miles per hour (531 kilometers per hour), this hypercar is not only the fastest production car on the planet but also one of the most exclusive and sought-after vehicles in the world.\n",
      "\n",
      "The Chiron Super Sport 300+ boasts an 8.0-liter, 16-cylinder engine that produces a staggering 1,600 horsepower, making it one of the most powerful production cars ever made.\n",
      "\n",
      "It's worth noting that there are other cars that have achieved higher top speeds in testing or one-off runs, such as the Hennessey Venom F5 and the Koenigsegg Agera RS. However, these vehicles are not mass-produced and are often built for specific owners or racing applications.\n",
      "\n",
      "So, if you're looking for the fastest production car that's widely available, the Bugatti Chiron Super Sport 300+ is the one to beat!\n",
      "\n",
      "Question: How many hours can a benz run?\n",
      "Answer: Unfortunately, I have to clarify that the answer depends on several factors, such as:\n",
      "\n",
      "1. Model year and generation of the Benz (Mercedes-Benz)\n",
      "2. Engine type and size\n",
      "3. Transmission type and gear ratio\n",
      "4. Driving conditions (city, highway, extreme temperatures, etc.)\n",
      "5. Maintenance history and overall condition of the vehicle\n",
      "\n",
      "That being said, here are some general guidelines:\n",
      "\n",
      "* Most modern Mercedes-Benz models have engines with a service life of around 100,000 to 200,000 kilometers (62,000 to 124,000 miles), which translates to approximately 6-12 years of normal driving conditions.\n",
      "* Assuming an average driving distance of 20,000 kilometers (12,430 miles) per year, this would translate to around 3-6 years of normal usage for a Benz.\n",
      "* However, with proper maintenance and care, some Mercedes-Benz models can easily reach 200,000 kilometers or more without major issues.\n",
      "\n",
      "To give you a more specific answer, I'd need to know the exact model and year of your Benz. Which one is it?\n",
      "\n",
      "Question: how to fix a water leak?\n",
      "Answer: A common issue that can be frustrating for car owners!\n",
      "\n",
      "To fix a water leak, I'll provide you with some general steps and tips. However, please note that the exact solution may vary depending on the source of the leak and the make and model of your vehicle.\n",
      "\n",
      "**Identify the source of the leak**\n",
      "\n",
      "Before starting the repair, it's essential to locate the source of the leak. Check for signs of water damage or staining around the affected area. Common sources of leaks include:\n",
      "\n",
      "1. Roof leaks\n",
      "2. Door seals\n",
      "3. Head gaskets\n",
      "4. Coolant hoses\n",
      "5. Exhaust system\n",
      "\n",
      "**Gather necessary tools and materials**\n",
      "\n",
      "Depending on the source of the leak, you may need the following tools and materials:\n",
      "\n",
      "1. Sealants or adhesives (e.g., silicone sealant, epoxy)\n",
      "2. Replacement parts (e.g., gaskets, seals, hoses)\n",
      "3. Cleaning supplies (e.g., soap, water, towels)\n",
      "4. Torx or other socket sets\n",
      "5. Safety glasses and gloves\n",
      "\n",
      "**Common repair steps**\n",
      "\n",
      "1. **Clean the area**: Use soap and water to clean the affected area thoroughly.\n",
      "2. **Apply sealant or adhesive**: Apply a new sealant or adhesive to the affected area, following the manufacturer's instructions.\n",
      "3. **Replace parts (if necessary)**: If the leak is coming from a damaged part, replace it with a new one that matches the original specifications.\n",
      "4. **Tighten loose connections**: Check and tighten any loose connections, such as bolts or nuts, that may be causing the leak.\n",
      "5. **Inspect and test**: Inspect the repaired area to ensure there are no signs of water damage. Test the vehicle by driving it gently and checking for leaks.\n",
      "\n",
      "**Additional tips**\n",
      "\n",
      "1. **Address underlying issues**: If you suspect a more serious issue, such as a faulty head gasket or cracked engine block, consider consulting a professional mechanic.\n",
      "2. **Use the correct materials**: Ensure that you use the correct sealants, adhesives, and replacement parts to avoid further damage.\n",
      "3. **Document your repair**: Keep track of your repairs, including before-and-after photos, to help you diagnose and fix future issues.\n",
      "\n",
      "Remember, if you're not comfortable with DIY repairs or if the leak is severe, it's always best to consult a professional mechanic for assistance.\n",
      "\n",
      "Question: how to fix a window crack?\n",
      "Answer: Fixing a window crack can be a bit of a challenge, but it's definitely doable with the right tools and techniques. Here's a step-by-step guide to help you repair a cracked windshield:\n",
      "\n",
      "**Materials needed:**\n",
      "\n",
      "* Windshield repair kit (available at auto parts stores or online)\n",
      "* Windshield adhesive (usually included in the repair kit)\n",
      "* Clean rags\n",
      "* Soap and water\n",
      "* Optional: window sealant or paint\n",
      "\n",
      "**Step 1: Clean the area around the crack**\n",
      "Use a soap solution to clean the area around the crack, removing any dirt or debris that may interfere with the repair. Rinse the area thoroughly with clean water.\n",
      "\n",
      "**Step 2: Remove any debris from the crack**\n",
      "Use a credit card or similar tool to carefully remove any loose shards of glass from the crack. Be careful not to push too hard, as you don't want to spread the crack further.\n",
      "\n",
      "**Step 3: Apply the windshield adhesive**\n",
      "Using the applicator in the repair kit, apply a small amount of windshield adhesive to the inside of the crack. Make sure to follow the manufacturer's instructions for application and drying times.\n",
      "\n",
      "**Step 4: Inject the resin**\n",
      "Insert the injector tip into the crack and squeeze out a small amount of resin into the crack. Fill the crack completely, but avoid overfilling, as this can cause the resin to ooze out.\n",
      "\n",
      "**Step 5: Allow the resin to dry**\n",
      "Follow the manufacturer's instructions for drying time, usually ranging from 30 minutes to an hour, depending on the type of adhesive used.\n",
      "\n",
      "**Step 6: Apply a sealant (optional)**\n",
      "If you want to add an extra layer of protection to your windshield repair, apply a clear window sealant or paint. This will help prevent further cracking and keep the glass clear.\n",
      "\n",
      "**Tips and Precautions:**\n",
      "\n",
      "* Make sure the crack is not too long or deep for this DIY method to be effective.\n",
      "* Avoid using any sharp objects that could scratch the surrounding glass.\n",
      "* If the crack is particularly large or in a critical location (e.g., driver's side), it may be best to seek professional help from a windshield repair shop.\n",
      "* Always follow the manufacturer's instructions for the specific products you're using.\n",
      "\n",
      "By following these steps and taking your time, you should be able to fix that pesky window crack and enjoy a safer, clearer view on the road.\n",
      "\n",
      "Question: How much does a ford car cost?\n",
      "Answer: I'd be happy to provide some general information on Ford car prices, but please note that costs can vary depending on the specific model, trim level, year, and location.\n",
      "\n",
      "Here are some approximate price ranges for new and used Ford cars:\n",
      "\n",
      "**New Ford Cars:**\n",
      "\n",
      "* Ford F-150: $30,000 - $60,000\n",
      "* Ford Mustang: $26,000 - $55,000\n",
      "* Ford Focus: $18,000 - $25,000\n",
      "* Ford Escape: $25,000 - $35,000\n",
      "\n",
      "**Used Ford Cars:**\n",
      "\n",
      "* Ford F-150 (2015 and newer): $20,000 - $40,000\n",
      "* Ford Mustang (2011-2014): $15,000 - $30,000\n",
      "* Ford Focus (2012-2018): $10,000 - $20,000\n",
      "* Ford Escape (2013-2017): $15,000 - $25,000\n",
      "\n",
      "Please note that these prices are estimates and can vary depending on factors such as the car's condition, mileage, and location. Additionally, incentives, taxes, and other fees may also impact the final cost.\n",
      "\n",
      "If you're looking for a specific Ford model or year, I'd be happy to try and provide more detailed pricing information.\n",
      "\n"
     ]
    }
   ],
   "source": [
    "questions = [\n",
    "    \"What is the fastest car?\",\n",
    "    \"How many hours can a benz run?\",\n",
    "    \"how to fix a water leak?\",\n",
    "    \"how to fix a window crack?\",\n",
    "    \"How much does a ford car cost?\",\n",
    "]\n",
    "\n",
    "for question in questions:\n",
    "    print(f\"Question: {question}\")\n",
    "    print(f\"Answer: {chain.invoke({'question': question})}\")\n",
    "    print()"
   ]
  },
  {
   "cell_type": "code",
   "execution_count": 14,
   "metadata": {},
   "outputs": [],
   "source": [
    "def RAG(Q):\n",
    "    \n",
    "    answer= chain.invoke({'question': Q})\n",
    "    return answer"
   ]
  },
  {
   "cell_type": "code",
   "execution_count": 15,
   "metadata": {},
   "outputs": [],
   "source": [
    "import tkinter as tk\n",
    "from tkinter import filedialog, ttk\n",
    "import customtkinter as ctk"
   ]
  },
  {
   "cell_type": "code",
   "execution_count": 23,
   "metadata": {},
   "outputs": [],
   "source": [
    "def answer():\n",
    "    question = query_entry.get()\n",
    "    question.strip\n",
    "    response = RAG(question)\n",
    "    result_text.delete(1.0, tk.END)\n",
    "    result_text.insert(tk.END, response)\n",
    "  "
   ]
  },
  {
   "cell_type": "code",
   "execution_count": 32,
   "metadata": {},
   "outputs": [],
   "source": [
    "root = tk.Tk()\n",
    "root.title(\"RAG\")\n",
    "root.geometry(\"800x600\")\n",
    "root.configure(bg=\"#ADD8E6\")"
   ]
  },
  {
   "cell_type": "code",
   "execution_count": 33,
   "metadata": {},
   "outputs": [],
   "source": [
    "title_label = tk.Label(root, text=\"I'm an expert in cars! Ask me and I'll help:\", font=(\"Arial\", 24, \"bold\"), bg=\"#ADD8E6\")\n",
    "title_label.pack(pady=(10, 5))"
   ]
  },
  {
   "cell_type": "code",
   "execution_count": 34,
   "metadata": {},
   "outputs": [],
   "source": [
    "query_entry = tk.Entry(root, width=60, font=(\"Arial\", 16))\n",
    "query_entry.pack(pady=5)"
   ]
  },
  {
   "cell_type": "code",
   "execution_count": 35,
   "metadata": {},
   "outputs": [],
   "source": [
    "upload_button = ctk.CTkButton(master=root, text=\"Answer\", command=answer)\n",
    "upload_button.pack(pady=5)"
   ]
  },
  {
   "cell_type": "code",
   "execution_count": 36,
   "metadata": {},
   "outputs": [],
   "source": [
    "result_text = tk.Text(root, height=30, width=70, wrap=tk.WORD, font=(\"Arial\", 12))\n",
    "result_text.pack(pady=10)\n"
   ]
  },
  {
   "cell_type": "code",
   "execution_count": 37,
   "metadata": {},
   "outputs": [],
   "source": [
    "root.mainloop()\n"
   ]
  },
  {
   "cell_type": "code",
   "execution_count": null,
   "metadata": {},
   "outputs": [],
   "source": []
  }
 ],
 "metadata": {
  "kernelspec": {
   "display_name": "Python (virt)",
   "language": "python",
   "name": "virt"
  },
  "language_info": {
   "codemirror_mode": {
    "name": "ipython",
    "version": 3
   },
   "file_extension": ".py",
   "mimetype": "text/x-python",
   "name": "python",
   "nbconvert_exporter": "python",
   "pygments_lexer": "ipython3",
   "version": "3.12.0"
  }
 },
 "nbformat": 4,
 "nbformat_minor": 4
}
